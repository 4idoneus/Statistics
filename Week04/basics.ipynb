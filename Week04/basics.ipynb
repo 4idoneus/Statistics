{
 "cells": [
  {
   "attachments": {},
   "cell_type": "markdown",
   "metadata": {},
   "source": [
    "# Python Basics"
   ]
  },
  {
   "attachments": {},
   "cell_type": "markdown",
   "metadata": {},
   "source": [
    "## Variables\n",
    "Variables are symbols for memory addresses."
   ]
  },
  {
   "cell_type": "code",
   "execution_count": 2,
   "metadata": {},
   "outputs": [],
   "source": [
    "a = 7"
   ]
  },
  {
   "cell_type": "code",
   "execution_count": 3,
   "metadata": {},
   "outputs": [
    {
     "data": {
      "text/plain": [
       "7"
      ]
     },
     "execution_count": 3,
     "metadata": {},
     "output_type": "execute_result"
    }
   ],
   "source": [
    "a"
   ]
  },
  {
   "cell_type": "code",
   "execution_count": 5,
   "metadata": {},
   "outputs": [
    {
     "data": {
      "text/plain": [
       "'0x102cca9f0'"
      ]
     },
     "execution_count": 5,
     "metadata": {},
     "output_type": "execute_result"
    }
   ],
   "source": [
    "hex(id(a))"
   ]
  },
  {
   "cell_type": "code",
   "execution_count": 6,
   "metadata": {},
   "outputs": [
    {
     "data": {
      "text/plain": [
       "'0x102cca9f0'"
      ]
     },
     "execution_count": 6,
     "metadata": {},
     "output_type": "execute_result"
    }
   ],
   "source": [
    "hex(id(7))"
   ]
  },
  {
   "cell_type": "code",
   "execution_count": 7,
   "metadata": {},
   "outputs": [
    {
     "data": {
      "text/plain": [
       "'0x102ccaa10'"
      ]
     },
     "execution_count": 7,
     "metadata": {},
     "output_type": "execute_result"
    }
   ],
   "source": [
    "hex(id(8))"
   ]
  },
  {
   "cell_type": "code",
   "execution_count": 8,
   "metadata": {},
   "outputs": [],
   "source": [
    "a = 8"
   ]
  },
  {
   "cell_type": "code",
   "execution_count": 9,
   "metadata": {},
   "outputs": [
    {
     "data": {
      "text/plain": [
       "'0x102ccaa10'"
      ]
     },
     "execution_count": 9,
     "metadata": {},
     "output_type": "execute_result"
    }
   ],
   "source": [
    "hex(id(a))"
   ]
  },
  {
   "cell_type": "code",
   "execution_count": 10,
   "metadata": {},
   "outputs": [
    {
     "data": {
      "text/plain": [
       "'0x102bef998'"
      ]
     },
     "execution_count": 10,
     "metadata": {},
     "output_type": "execute_result"
    }
   ],
   "source": [
    "hex(id(True))"
   ]
  },
  {
   "cell_type": "code",
   "execution_count": 11,
   "metadata": {},
   "outputs": [],
   "source": [
    "b = True\n",
    "c = True\n",
    "d = True"
   ]
  },
  {
   "cell_type": "code",
   "execution_count": 13,
   "metadata": {},
   "outputs": [
    {
     "name": "stdout",
     "output_type": "stream",
     "text": [
      "0x102bef998\n",
      "0x102bef998\n",
      "0x102bef998\n"
     ]
    }
   ],
   "source": [
    "print(hex(id(b)))\n",
    "print(hex(id(c)))\n",
    "print(hex(id(d)))"
   ]
  },
  {
   "attachments": {},
   "cell_type": "markdown",
   "metadata": {},
   "source": [
    "## Identifier Names\n",
    "For variables, functions, classes, modules, packages etc. we use identifier names. We must obey some rules and we should follow some conventions with these names."
   ]
  },
  {
   "cell_type": "code",
   "execution_count": 14,
   "metadata": {},
   "outputs": [
    {
     "name": "stdout",
     "output_type": "stream",
     "text": [
      "1\n",
      "2\n"
     ]
    }
   ],
   "source": [
    "# Rule: Names are case sensitive. Combination of uppercase / lowercase letters matters.\n",
    "\n",
    "var = 1\n",
    "Var = 2\n",
    "print(var)\n",
    "print(Var)"
   ]
  },
  {
   "cell_type": "code",
   "execution_count": 16,
   "metadata": {},
   "outputs": [
    {
     "name": "stdout",
     "output_type": "stream",
     "text": [
      "3\n",
      "4\n",
      "5\n"
     ]
    }
   ],
   "source": [
    "# Rule: Names can a combination of letters (a-z, A-Z), digits (0-9), and underscore (_).\n",
    "\n",
    "var1 = 3\n",
    "print(var1)\n",
    "var_1 = 4\n",
    "print(var_1)\n",
    "_var1 = 5\n",
    "print(_var1)"
   ]
  },
  {
   "cell_type": "code",
   "execution_count": 17,
   "metadata": {},
   "outputs": [
    {
     "ename": "SyntaxError",
     "evalue": "invalid decimal literal (1364397895.py, line 3)",
     "output_type": "error",
     "traceback": [
      "\u001b[0;36m  Cell \u001b[0;32mIn [17], line 3\u001b[0;36m\u001b[0m\n\u001b[0;31m    1_var = 6\u001b[0m\n\u001b[0m     ^\u001b[0m\n\u001b[0;31mSyntaxError\u001b[0m\u001b[0;31m:\u001b[0m invalid decimal literal\n"
     ]
    }
   ],
   "source": [
    "# Rule: Names can only start with a letter or underscore, cannot start with a digit.\n",
    "\n",
    "1_var = 6\n",
    "print(1_var)"
   ]
  },
  {
   "cell_type": "code",
   "execution_count": 20,
   "metadata": {},
   "outputs": [
    {
     "name": "stdout",
     "output_type": "stream",
     "text": [
      "1000000\n",
      "1000000\n",
      "1000000\n"
     ]
    }
   ],
   "source": [
    "my_variable_1 = 1_000_000\n",
    "my_variable_2 = 1_000000\n",
    "my_variable_3 = 1_0_0_0_0_0_0\n",
    "print(my_variable_1)\n",
    "print(my_variable_2)\n",
    "print(my_variable_3)"
   ]
  },
  {
   "cell_type": "code",
   "execution_count": 21,
   "metadata": {},
   "outputs": [
    {
     "ename": "SyntaxError",
     "evalue": "invalid syntax (1720897995.py, line 3)",
     "output_type": "error",
     "traceback": [
      "\u001b[0;36m  Cell \u001b[0;32mIn [21], line 3\u001b[0;36m\u001b[0m\n\u001b[0;31m    if = 4\u001b[0m\n\u001b[0m       ^\u001b[0m\n\u001b[0;31mSyntaxError\u001b[0m\u001b[0;31m:\u001b[0m invalid syntax\n"
     ]
    }
   ],
   "source": [
    "# Rule: Keywords cannot be used as a name.\n",
    "\n",
    "if = 4"
   ]
  },
  {
   "cell_type": "code",
   "execution_count": 22,
   "metadata": {},
   "outputs": [],
   "source": [
    "import keyword"
   ]
  },
  {
   "cell_type": "code",
   "execution_count": 23,
   "metadata": {},
   "outputs": [
    {
     "data": {
      "text/plain": [
       "['__all__',\n",
       " '__builtins__',\n",
       " '__cached__',\n",
       " '__doc__',\n",
       " '__file__',\n",
       " '__loader__',\n",
       " '__name__',\n",
       " '__package__',\n",
       " '__spec__',\n",
       " 'iskeyword',\n",
       " 'issoftkeyword',\n",
       " 'kwlist',\n",
       " 'softkwlist']"
      ]
     },
     "execution_count": 23,
     "metadata": {},
     "output_type": "execute_result"
    }
   ],
   "source": [
    "dir(keyword)"
   ]
  },
  {
   "cell_type": "code",
   "execution_count": 24,
   "metadata": {},
   "outputs": [
    {
     "data": {
      "text/plain": [
       "['False',\n",
       " 'None',\n",
       " 'True',\n",
       " '__peg_parser__',\n",
       " 'and',\n",
       " 'as',\n",
       " 'assert',\n",
       " 'async',\n",
       " 'await',\n",
       " 'break',\n",
       " 'class',\n",
       " 'continue',\n",
       " 'def',\n",
       " 'del',\n",
       " 'elif',\n",
       " 'else',\n",
       " 'except',\n",
       " 'finally',\n",
       " 'for',\n",
       " 'from',\n",
       " 'global',\n",
       " 'if',\n",
       " 'import',\n",
       " 'in',\n",
       " 'is',\n",
       " 'lambda',\n",
       " 'nonlocal',\n",
       " 'not',\n",
       " 'or',\n",
       " 'pass',\n",
       " 'raise',\n",
       " 'return',\n",
       " 'try',\n",
       " 'while',\n",
       " 'with',\n",
       " 'yield']"
      ]
     },
     "execution_count": 24,
     "metadata": {},
     "output_type": "execute_result"
    }
   ],
   "source": [
    "keyword.kwlist"
   ]
  },
  {
   "cell_type": "code",
   "execution_count": 25,
   "metadata": {},
   "outputs": [
    {
     "name": "stdout",
     "output_type": "stream",
     "text": [
      "Help on built-in function __contains__:\n",
      "\n",
      "__contains__(...) method of builtins.frozenset instance\n",
      "    x.__contains__(y) <==> y in x.\n",
      "\n"
     ]
    }
   ],
   "source": [
    "help(keyword.iskeyword)"
   ]
  },
  {
   "cell_type": "code",
   "execution_count": 26,
   "metadata": {},
   "outputs": [
    {
     "data": {
      "text/plain": [
       "True"
      ]
     },
     "execution_count": 26,
     "metadata": {},
     "output_type": "execute_result"
    }
   ],
   "source": [
    "keyword.iskeyword(\"if\")"
   ]
  },
  {
   "cell_type": "code",
   "execution_count": 27,
   "metadata": {},
   "outputs": [
    {
     "data": {
      "text/plain": [
       "False"
      ]
     },
     "execution_count": 27,
     "metadata": {},
     "output_type": "execute_result"
    }
   ],
   "source": [
    "keyword.iskeyword(\"Bora\")"
   ]
  },
  {
   "cell_type": "code",
   "execution_count": 28,
   "metadata": {},
   "outputs": [
    {
     "data": {
      "text/plain": [
       "False"
      ]
     },
     "execution_count": 28,
     "metadata": {},
     "output_type": "execute_result"
    }
   ],
   "source": [
    "keyword.iskeyword(\"If\")"
   ]
  },
  {
   "cell_type": "code",
   "execution_count": 29,
   "metadata": {},
   "outputs": [
    {
     "data": {
      "text/plain": [
       "False"
      ]
     },
     "execution_count": 29,
     "metadata": {},
     "output_type": "execute_result"
    }
   ],
   "source": [
    "keyword.iskeyword(\"IF\")"
   ]
  },
  {
   "cell_type": "code",
   "execution_count": 32,
   "metadata": {},
   "outputs": [
    {
     "data": {
      "text/plain": [
       "3"
      ]
     },
     "execution_count": 32,
     "metadata": {},
     "output_type": "execute_result"
    }
   ],
   "source": [
    "def my_func(from_, to_):\n",
    "    return to_ - from_\n",
    "\n",
    "my_func(2, 5)"
   ]
  },
  {
   "attachments": {},
   "cell_type": "markdown",
   "metadata": {},
   "source": [
    "<b>Conventions from PEP 8</b>\n",
    "\n",
    "<ul>\n",
    "<li><b>Packages:</b> Short, all-lowercase names without underscores.</li>\n",
    "<li><b>Modules:</b> Short, all-lowercase names, can have underscores.</li>\n",
    "<li><b>Classes:</b> CapWords (upper camel case) convention.</li>\n",
    "<li><b>Functions & Variables:</b> Lowercase, words separated by underscores (snake_case).</li>\n",
    "<li><b>Constants:</b> All-uppercase, words seperated by underscores.</li>\n",
    "</ul>"
   ]
  },
  {
   "cell_type": "code",
   "execution_count": 33,
   "metadata": {},
   "outputs": [],
   "source": [
    "# a package name\n",
    "import numpy\n",
    "# a module name\n",
    "import other_file\n",
    "# a class name\n",
    "class MyClass:\n",
    "    pass\n",
    "# a function name\n",
    "def my_function():\n",
    "    pass\n",
    "# a variable name\n",
    "my_variable = 1\n",
    "# a constant name\n",
    "MY_CONSTANT = 1"
   ]
  },
  {
   "attachments": {},
   "cell_type": "markdown",
   "metadata": {},
   "source": [
    "<b>Leading and trailing underscore</b>\n",
    "\n",
    "<ul>\n",
    "<li>_single_leading_underscore: weak “internal use” indicator. E.g. from M import * does not import objects whose names start with an underscore.</li>\n",
    "<li>single_trailing_underscore_: used by convention to avoid conflicts with Python keyword, e.g.</li>\n",
    "<li>__double_leading_underscore: when naming a class attribute, invokes name mangling (inside class FooBar, __boo becomes _FooBar__boo; see below).</li>\n",
    "<li>__double_leading_and_trailing_underscore__: “magic” objects or attributes that live in user-controlled namespaces. E.g. __init__, __import__ or __file__. Never invent such names; only use them as documented.</li>\n",
    "</ul>\n"
   ]
  },
  {
   "attachments": {},
   "cell_type": "markdown",
   "metadata": {},
   "source": [
    "## Variable Types\n",
    "Python is dynamically typed. Python does not have primitive types. Everything is an object in Python, therefore a variable is purely a reference to an object with the specified value."
   ]
  },
  {
   "cell_type": "code",
   "execution_count": 38,
   "metadata": {},
   "outputs": [
    {
     "name": "stdout",
     "output_type": "stream",
     "text": [
      "<class 'int'>\n",
      "<class 'float'>\n",
      "<class 'str'>\n",
      "<class 'bool'>\n",
      "<class 'complex'>\n"
     ]
    }
   ],
   "source": [
    "a = 5\n",
    "b = 7.34\n",
    "c = \"Bora\"\n",
    "d = True\n",
    "e = 2j\n",
    "print(type(a))\n",
    "print(type(b))\n",
    "print(type(c))\n",
    "print(type(d))\n",
    "print(type(e))"
   ]
  },
  {
   "cell_type": "code",
   "execution_count": 48,
   "metadata": {},
   "outputs": [
    {
     "name": "stdout",
     "output_type": "stream",
     "text": [
      "12.0\n",
      "4\n",
      "False\n",
      "7.62\n",
      "(3+0j)\n"
     ]
    }
   ],
   "source": [
    "# typecasting\n",
    "print(float(12))\n",
    "print(int(4.6))\n",
    "print(bool(0))\n",
    "print(str(7.62))\n",
    "print(complex(3))"
   ]
  },
  {
   "cell_type": "code",
   "execution_count": 49,
   "metadata": {},
   "outputs": [
    {
     "name": "stdout",
     "output_type": "stream",
     "text": [
      "5 7.34 Bora True 2j\n"
     ]
    }
   ],
   "source": [
    "# multiple assignment\n",
    "\n",
    "v1, v2, v3, v4, v5 = 5, 7.34, \"Bora\", True, 2j\n",
    "print(v1, v2, v3, v4, v5)"
   ]
  },
  {
   "cell_type": "code",
   "execution_count": 50,
   "metadata": {},
   "outputs": [
    {
     "name": "stdout",
     "output_type": "stream",
     "text": [
      "7.34 5\n",
      "5 7.34\n"
     ]
    }
   ],
   "source": [
    "# variable swap\n",
    "#\n",
    "# temp_var = v1\n",
    "# v1 = v2\n",
    "# v2 = temp_var\n",
    "\n",
    "v1, v2 = v2, v1\n",
    "print(v1, v2)\n",
    "v1, v2 = v2, v1\n",
    "print(v1, v2)"
   ]
  },
  {
   "attachments": {},
   "cell_type": "markdown",
   "metadata": {},
   "source": [
    "## Formatted Output"
   ]
  },
  {
   "cell_type": "code",
   "execution_count": 76,
   "metadata": {},
   "outputs": [
    {
     "name": "stdout",
     "output_type": "stream",
     "text": [
      "v1 =  5  | v2 =  7.34  | v3 =  Bora  | v4 =  True  | v5 =  2j\n",
      "v1 = 5 | v2 = 7.340000 | v2 = 7.340000e+00 | v2 = 7.34 | v3 = Bora | v4 = True | v5 = 2j\n",
      "v1 = 5 | v2 = 7.34 | v3 = Bora | v4 = True | v5 = 2j\n",
      "v1 = 5 | v2 = 7.34 | v3 = Bora | v4 = True | v5 = 2j\n",
      "v1 = 005 | v1 = 101 | v2 =        7.340 | v2 =    7.340e+00 | v2 =   7.34 | v3 = Bora | v4 = 1\n"
     ]
    }
   ],
   "source": [
    "print(\"v1 = \", v1, \" | v2 = \", v2, \" | v3 = \", v3, \" | v4 = \", v4, \" | v5 = \", v5)\n",
    "print(\"v1 = %d | v2 = %f | v2 = %e | v2 = %g | v3 = %s | v4 = %s | v5 = %s\" % (v1, v2, v2, v2, v3, v4, v5))\n",
    "print(\"v1 = {0} | v2 = {1} | v3 = {2} | v4 = {3} | v5 = {4}\".format(v1, v2, v3, v4, v5))\n",
    "print(f\"v1 = {v1} | v2 = {v2} | v3 = {v3} | v4 = {v4} | v5 = {v5}\")\n",
    "print(f\"v1 = {v1:03d} | v1 = {v1:b} | v2 = {v2:12.3f} | v2 = {v2:12.3e} | v2 = {v2:6g} | v3 = {v3} | v4 = {v4:d}\")"
   ]
  },
  {
   "attachments": {},
   "cell_type": "markdown",
   "metadata": {},
   "source": [
    "d: integer\n",
    "\n",
    "f, e, g: float\n",
    "\n",
    "b: binary\n",
    "\n",
    "s: string"
   ]
  },
  {
   "attachments": {},
   "cell_type": "markdown",
   "metadata": {},
   "source": [
    "## Sequences\n",
    "### 0: String"
   ]
  },
  {
   "cell_type": "code",
   "execution_count": 93,
   "metadata": {},
   "outputs": [
    {
     "name": "stdout",
     "output_type": "stream",
     "text": [
      "P\n",
      "B\n",
      "13\n",
      "s\n",
      "s\n",
      "i\n",
      "P\n",
      "Python\n",
      "Python\n",
      "Basics\n",
      "Python Basics\n",
      "Pto\n",
      "Bnhy\n",
      "scisaB nohtyP\n"
     ]
    }
   ],
   "source": [
    "name = \"Python Basics\"\n",
    "#       0123456789012\n",
    "print(name[0])\n",
    "print(name[7])\n",
    "print(len(name))\n",
    "print(name[len(name)-1])\n",
    "print(name[-1])\n",
    "print(name[-3])\n",
    "print(name[-len(name)])\n",
    "print(name[0:6]) # [)\n",
    "print(name[:6])\n",
    "print(name[7:])\n",
    "print(name[:]) # new_name = name[:] # copy\n",
    "print(name[0:6:2])\n",
    "print(name[7:0:-2])\n",
    "print(name[::-1])"
   ]
  },
  {
   "cell_type": "code",
   "execution_count": 100,
   "metadata": {},
   "outputs": [
    {
     "name": "stdout",
     "output_type": "stream",
     "text": [
      "Python Basics\n",
      "thon Bas\n",
      "to a\n",
      "ia o\n",
      "Python Basics"
     ]
    }
   ],
   "source": [
    "# Loops\n",
    "for i in range(len(name)):\n",
    "    print(name[i], end='')\n",
    "print('')\n",
    "for i in range(2, 10):\n",
    "    print(name[i], end='')\n",
    "print('')\n",
    "for i in range(2, 10, 2):\n",
    "    print(name[i], end='')\n",
    "print('')\n",
    "for i in range(10, 2, -2):\n",
    "    print(name[i], end='')\n",
    "print('')\n",
    "for c in name:\n",
    "    print(c, end='')"
   ]
  },
  {
   "attachments": {},
   "cell_type": "markdown",
   "metadata": {},
   "source": [
    "## Sequences\n",
    "### 1: List\n",
    "### 2: Tuple\n",
    "### 3: Set\n",
    "### 4: Dictionary"
   ]
  },
  {
   "attachments": {},
   "cell_type": "markdown",
   "metadata": {},
   "source": [
    "## Multi-Line Statements\n",
    "Physical line vs Logical line\n",
    "\n",
    "<b>Implicit</b><br>\n",
    "List, Tuple, Dict, Set literals: [], (), {}<br>\n",
    "Function arguments and parameters\n",
    "\n",
    "<b>Explicit</b>\n",
    "Breaking up statements over multiple lines by using the backslash (\\\\) character."
   ]
  },
  {
   "cell_type": "code",
   "execution_count": 103,
   "metadata": {},
   "outputs": [],
   "source": [
    "# implicit\n",
    "\n",
    "a_list_of_courses = [\"Statistics\", \"Data Visualization\", \"Parallel Programming\", \"Numerical Analysis\", \"Data Science\"]\n",
    "a_list_of_courses = [\n",
    "    \"Statistics\", # 2nd grade\n",
    "    \"Data Visualization\", # 3rd grade\n",
    "    \"Parallel Programming\", # 4th grade\n",
    "    \"Numerical Analysis\", # 3rd grade\n",
    "    \"Data Science\", # graduate\n",
    "]"
   ]
  },
  {
   "cell_type": "code",
   "execution_count": 106,
   "metadata": {},
   "outputs": [
    {
     "name": "stdout",
     "output_type": "stream",
     "text": [
      "Data Science is in the list\n",
      "Data Science is in the list\n"
     ]
    }
   ],
   "source": [
    "# explicit\n",
    "\n",
    "if \"Data Science\" in a_list_of_courses:\n",
    "    print(\"Data Science is in the list\")\n",
    "\n",
    "if \"Data Science\" in \\\n",
    "        a_list_of_courses:\n",
    "    print(\"Data Science is in the list\")"
   ]
  },
  {
   "attachments": {},
   "cell_type": "markdown",
   "metadata": {},
   "source": [
    "## Conditionals"
   ]
  },
  {
   "cell_type": "code",
   "execution_count": 108,
   "metadata": {},
   "outputs": [
    {
     "name": "stdout",
     "output_type": "stream",
     "text": [
      "You are allowed to vote.\n"
     ]
    }
   ],
   "source": [
    "age = 38\n",
    "if age < 18:\n",
    "    print(\"You are not allowed to vote.\")\n",
    "else:\n",
    "    print(\"You are allowed to vote.\")"
   ]
  },
  {
   "cell_type": "code",
   "execution_count": 109,
   "metadata": {},
   "outputs": [
    {
     "name": "stdout",
     "output_type": "stream",
     "text": [
      "You are a junior\n"
     ]
    }
   ],
   "source": [
    "student_id = \"200315086\"\n",
    "entrance_year = int(student_id[:2])\n",
    "if entrance_year > 21:\n",
    "    print(\"You are a freshman\")\n",
    "elif entrance_year > 20:\n",
    "    print(\"You are a sophomore\")\n",
    "elif entrance_year > 19:\n",
    "    print(\"You are a junior\")\n",
    "else:\n",
    "    print(\"You are a senior\")"
   ]
  },
  {
   "cell_type": "code",
   "execution_count": 110,
   "metadata": {},
   "outputs": [
    {
     "name": "stdout",
     "output_type": "stream",
     "text": [
      "Engineering Faculty\n"
     ]
    }
   ],
   "source": [
    "# one line if: Ternary Operator\n",
    "\n",
    "student_id = \"180315097\"\n",
    "school_code = student_id[2:4]\n",
    "school = \"Engineering Faculty\" if school_code == \"03\" else \"Other\"\n",
    "print(school)"
   ]
  },
  {
   "attachments": {},
   "cell_type": "markdown",
   "metadata": {},
   "source": [
    "## Identity vs Equality\n",
    "\n",
    "Check memory address with identity operator (is).\n",
    "\n",
    "Check object state with equality operator (==)."
   ]
  },
  {
   "cell_type": "code",
   "execution_count": 114,
   "metadata": {},
   "outputs": [
    {
     "name": "stdout",
     "output_type": "stream",
     "text": [
      "True\n",
      "False\n",
      "True\n",
      "False\n"
     ]
    }
   ],
   "source": [
    "a = 5\n",
    "b = 5\n",
    "print(a == b)\n",
    "print(a != b)\n",
    "print(a is b)\n",
    "print(a is not b)"
   ]
  },
  {
   "cell_type": "code",
   "execution_count": 116,
   "metadata": {},
   "outputs": [
    {
     "name": "stdout",
     "output_type": "stream",
     "text": [
      "True\n",
      "False\n"
     ]
    }
   ],
   "source": [
    "a = 7\n",
    "b = 7.0\n",
    "print(a == b)\n",
    "print(a is b)"
   ]
  },
  {
   "cell_type": "code",
   "execution_count": 118,
   "metadata": {},
   "outputs": [
    {
     "name": "stdout",
     "output_type": "stream",
     "text": [
      "True\n",
      "False\n"
     ]
    }
   ],
   "source": [
    "a = [1, 2, 3]\n",
    "b = [1, 2, 3]\n",
    "print(a == b)\n",
    "print(a is b)"
   ]
  },
  {
   "cell_type": "code",
   "execution_count": 121,
   "metadata": {},
   "outputs": [
    {
     "name": "stdout",
     "output_type": "stream",
     "text": [
      "True\n"
     ]
    },
    {
     "ename": "NameError",
     "evalue": "name 'z' is not defined",
     "output_type": "error",
     "traceback": [
      "\u001b[0;31m---------------------------------------------------------------------------\u001b[0m",
      "\u001b[0;31mNameError\u001b[0m                                 Traceback (most recent call last)",
      "\u001b[1;32m/Users/jabba/Codes/Statistics/Week04b/basics.ipynb Cell 54\u001b[0m in \u001b[0;36m3\n\u001b[1;32m      <a href='vscode-notebook-cell:/Users/jabba/Codes/Statistics/Week04b/basics.ipynb#Y104sZmlsZQ%3D%3D?line=0'>1</a>\u001b[0m \u001b[39m# None object\u001b[39;00m\n\u001b[1;32m      <a href='vscode-notebook-cell:/Users/jabba/Codes/Statistics/Week04b/basics.ipynb#Y104sZmlsZQ%3D%3D?line=1'>2</a>\u001b[0m \u001b[39mprint\u001b[39m(a \u001b[39mis\u001b[39;00m \u001b[39mnot\u001b[39;00m \u001b[39mNone\u001b[39;00m)\n\u001b[0;32m----> <a href='vscode-notebook-cell:/Users/jabba/Codes/Statistics/Week04b/basics.ipynb#Y104sZmlsZQ%3D%3D?line=2'>3</a>\u001b[0m \u001b[39mprint\u001b[39m(z \u001b[39mis\u001b[39;00m \u001b[39mNone\u001b[39;00m)\n",
      "\u001b[0;31mNameError\u001b[0m: name 'z' is not defined"
     ]
    }
   ],
   "source": [
    "# None object\n",
    "print(a is not None)\n",
    "print(z is None)"
   ]
  },
  {
   "cell_type": "code",
   "execution_count": 122,
   "metadata": {},
   "outputs": [
    {
     "name": "stdout",
     "output_type": "stream",
     "text": [
      "True\n"
     ]
    }
   ],
   "source": [
    "z = None\n",
    "print(z is None)"
   ]
  },
  {
   "attachments": {},
   "cell_type": "markdown",
   "metadata": {},
   "source": [
    "## Functions"
   ]
  },
  {
   "cell_type": "code",
   "execution_count": 123,
   "metadata": {},
   "outputs": [],
   "source": [
    "def my_func():\n",
    "    print(\"You call my_func\")"
   ]
  },
  {
   "cell_type": "code",
   "execution_count": 125,
   "metadata": {},
   "outputs": [
    {
     "name": "stdout",
     "output_type": "stream",
     "text": [
      "You call my_func\n"
     ]
    }
   ],
   "source": [
    "my_func()"
   ]
  },
  {
   "cell_type": "code",
   "execution_count": 126,
   "metadata": {},
   "outputs": [],
   "source": [
    "def my_func_w_args(x, y, z):\n",
    "    print(f\"x = {x}, y = {y}, z = {z}\")"
   ]
  },
  {
   "cell_type": "code",
   "execution_count": 127,
   "metadata": {},
   "outputs": [
    {
     "name": "stdout",
     "output_type": "stream",
     "text": [
      "x = 3, y = 5, z = 7\n"
     ]
    }
   ],
   "source": [
    "my_func_w_args(3, 5, 7)"
   ]
  },
  {
   "cell_type": "code",
   "execution_count": 128,
   "metadata": {},
   "outputs": [
    {
     "ename": "TypeError",
     "evalue": "my_func_w_args() missing 2 required positional arguments: 'x' and 'z'",
     "output_type": "error",
     "traceback": [
      "\u001b[0;31m---------------------------------------------------------------------------\u001b[0m",
      "\u001b[0;31mTypeError\u001b[0m                                 Traceback (most recent call last)",
      "\u001b[1;32m/Users/jabba/Codes/Statistics/Week04b/basics.ipynb Cell 61\u001b[0m in \u001b[0;36m1\n\u001b[0;32m----> <a href='vscode-notebook-cell:/Users/jabba/Codes/Statistics/Week04b/basics.ipynb#Y115sZmlsZQ%3D%3D?line=0'>1</a>\u001b[0m my_func_w_args(y\u001b[39m=\u001b[39;49m\u001b[39m7\u001b[39;49m)\n",
      "\u001b[0;31mTypeError\u001b[0m: my_func_w_args() missing 2 required positional arguments: 'x' and 'z'"
     ]
    }
   ],
   "source": [
    "my_func_w_args(y=7)"
   ]
  },
  {
   "cell_type": "code",
   "execution_count": 132,
   "metadata": {},
   "outputs": [],
   "source": [
    "def my_func_w_default_values(x=None, y=None, z=None):\n",
    "    x_str = f\"x = {x} \" if x is not None else f\"\"\n",
    "    y_str = f\"y = {y} \" if y is not None else f\"\"\n",
    "    z_str = f\"z = {z} \" if z is not None else f\"\"\n",
    "    print(x_str + y_str + z_str)"
   ]
  },
  {
   "cell_type": "code",
   "execution_count": 133,
   "metadata": {},
   "outputs": [
    {
     "name": "stdout",
     "output_type": "stream",
     "text": [
      "y = 7 \n"
     ]
    }
   ],
   "source": [
    "my_func_w_default_values(y=7)"
   ]
  },
  {
   "cell_type": "code",
   "execution_count": 138,
   "metadata": {},
   "outputs": [],
   "source": [
    "def func_w_args(*args):\n",
    "    print(args)\n",
    "    for arg in args:\n",
    "        print(f\"this arg is {arg}\")"
   ]
  },
  {
   "cell_type": "code",
   "execution_count": 139,
   "metadata": {},
   "outputs": [
    {
     "name": "stdout",
     "output_type": "stream",
     "text": [
      "(3, 5, 7)\n",
      "this arg is 3\n",
      "this arg is 5\n",
      "this arg is 7\n"
     ]
    }
   ],
   "source": [
    "func_w_args(3, 5, 7)"
   ]
  },
  {
   "cell_type": "code",
   "execution_count": 140,
   "metadata": {},
   "outputs": [],
   "source": [
    "def func_w_mandatory_args(x, *args):\n",
    "    print(x)\n",
    "    print(args)"
   ]
  },
  {
   "cell_type": "code",
   "execution_count": 141,
   "metadata": {},
   "outputs": [
    {
     "name": "stdout",
     "output_type": "stream",
     "text": [
      "3\n",
      "(5, 7)\n"
     ]
    }
   ],
   "source": [
    "func_w_mandatory_args(3, 5, 7)"
   ]
  },
  {
   "cell_type": "code",
   "execution_count": 142,
   "metadata": {},
   "outputs": [],
   "source": [
    "def func_w_kwargs(**kwargs):\n",
    "    print(kwargs)"
   ]
  },
  {
   "cell_type": "code",
   "execution_count": 143,
   "metadata": {},
   "outputs": [
    {
     "name": "stdout",
     "output_type": "stream",
     "text": [
      "{'y': 5, 'z': 7}\n"
     ]
    }
   ],
   "source": [
    "func_w_kwargs(y=5, z=7)"
   ]
  },
  {
   "cell_type": "code",
   "execution_count": 144,
   "metadata": {},
   "outputs": [],
   "source": [
    "def func_w_mandatory_kwargs(x, **kwargs):\n",
    "    print(x)\n",
    "    print(kwargs)"
   ]
  },
  {
   "cell_type": "code",
   "execution_count": 145,
   "metadata": {},
   "outputs": [
    {
     "name": "stdout",
     "output_type": "stream",
     "text": [
      "3\n",
      "{'y': 5, 'z': 7}\n"
     ]
    }
   ],
   "source": [
    "func_w_mandatory_kwargs(3, y=5, z=7)"
   ]
  },
  {
   "cell_type": "code",
   "execution_count": 146,
   "metadata": {},
   "outputs": [],
   "source": [
    "def func_w_args_and_kwargs(*args, **kwargs):\n",
    "    print(args)\n",
    "    print(kwargs)"
   ]
  },
  {
   "cell_type": "code",
   "execution_count": 147,
   "metadata": {},
   "outputs": [
    {
     "name": "stdout",
     "output_type": "stream",
     "text": [
      "(3, 5, 7)\n",
      "{'y': 5, 'z': 7}\n"
     ]
    }
   ],
   "source": [
    "func_w_args_and_kwargs(3, 5, 7, y=5, z=7)"
   ]
  },
  {
   "cell_type": "code",
   "execution_count": 148,
   "metadata": {},
   "outputs": [],
   "source": [
    "def func_w_combination(x, *args, y, **kwargs):\n",
    "    print(x)\n",
    "    print(args)\n",
    "    print(y)\n",
    "    print(kwargs)"
   ]
  },
  {
   "cell_type": "code",
   "execution_count": 149,
   "metadata": {},
   "outputs": [
    {
     "name": "stdout",
     "output_type": "stream",
     "text": [
      "3\n",
      "(5, 7)\n",
      "5\n",
      "{'z': 7}\n"
     ]
    }
   ],
   "source": [
    "func_w_combination(3, 5, 7, y=5, z=7)"
   ]
  },
  {
   "attachments": {},
   "cell_type": "markdown",
   "metadata": {},
   "source": [
    "## Lambda Functions"
   ]
  },
  {
   "cell_type": "code",
   "execution_count": 150,
   "metadata": {},
   "outputs": [],
   "source": [
    "def fx(x):\n",
    "    return x * x\n",
    "\n",
    "fx = lambda x: x * x"
   ]
  },
  {
   "cell_type": "code",
   "execution_count": 151,
   "metadata": {},
   "outputs": [
    {
     "data": {
      "text/plain": [
       "25"
      ]
     },
     "execution_count": 151,
     "metadata": {},
     "output_type": "execute_result"
    }
   ],
   "source": [
    "fx(5)"
   ]
  },
  {
   "cell_type": "code",
   "execution_count": 152,
   "metadata": {},
   "outputs": [
    {
     "name": "stdout",
     "output_type": "stream",
     "text": [
      "15\n"
     ]
    }
   ],
   "source": [
    "gx = lambda x, y: x * y\n",
    "print(gx(3, 5))"
   ]
  },
  {
   "cell_type": "code",
   "execution_count": 153,
   "metadata": {},
   "outputs": [],
   "source": [
    "mod_str = lambda x: \"Odd\" if x % 2 == 1 else \"Even\""
   ]
  },
  {
   "cell_type": "code",
   "execution_count": 154,
   "metadata": {},
   "outputs": [
    {
     "data": {
      "text/plain": [
       "'Odd'"
      ]
     },
     "execution_count": 154,
     "metadata": {},
     "output_type": "execute_result"
    }
   ],
   "source": [
    "mod_str(5)"
   ]
  },
  {
   "cell_type": "code",
   "execution_count": null,
   "metadata": {},
   "outputs": [],
   "source": []
  }
 ],
 "metadata": {
  "kernelspec": {
   "display_name": "base",
   "language": "python",
   "name": "python3"
  },
  "language_info": {
   "codemirror_mode": {
    "name": "ipython",
    "version": 3
   },
   "file_extension": ".py",
   "mimetype": "text/x-python",
   "name": "python",
   "nbconvert_exporter": "python",
   "pygments_lexer": "ipython3",
   "version": "3.9.15"
  },
  "orig_nbformat": 4
 },
 "nbformat": 4,
 "nbformat_minor": 2
}
